{
 "cells": [
  {
   "cell_type": "markdown",
   "id": "26811eb7",
   "metadata": {},
   "source": [
    "# Limpeza e tratamento de dados "
   ]
  },
  {
   "cell_type": "code",
   "execution_count": 29,
   "id": "c0b8a3a0",
   "metadata": {},
   "outputs": [],
   "source": [
    "import pandas as pd\n",
    "import seaborn as srn\n",
    "import statistics as sts"
   ]
  },
  {
   "cell_type": "code",
   "execution_count": 30,
   "id": "b790ed5a",
   "metadata": {},
   "outputs": [],
   "source": [
    "#importar os dados\n",
    "df = pd.read_csv(\"tempo.csv\",sep=';')\n",
    "# visualizando os dados"
   ]
  },
  {
   "cell_type": "code",
   "execution_count": 31,
   "id": "76908a66",
   "metadata": {},
   "outputs": [
    {
     "data": {
      "text/html": [
       "<div>\n",
       "<style scoped>\n",
       "    .dataframe tbody tr th:only-of-type {\n",
       "        vertical-align: middle;\n",
       "    }\n",
       "\n",
       "    .dataframe tbody tr th {\n",
       "        vertical-align: top;\n",
       "    }\n",
       "\n",
       "    .dataframe thead th {\n",
       "        text-align: right;\n",
       "    }\n",
       "</style>\n",
       "<table border=\"1\" class=\"dataframe\">\n",
       "  <thead>\n",
       "    <tr style=\"text-align: right;\">\n",
       "      <th></th>\n",
       "      <th>Aparencia</th>\n",
       "      <th>Temperatura</th>\n",
       "      <th>Umidade</th>\n",
       "      <th>Vento</th>\n",
       "      <th>Jogar</th>\n",
       "    </tr>\n",
       "  </thead>\n",
       "  <tbody>\n",
       "    <tr>\n",
       "      <th>0</th>\n",
       "      <td>sol</td>\n",
       "      <td>85</td>\n",
       "      <td>85.0</td>\n",
       "      <td>FALSO</td>\n",
       "      <td>nao</td>\n",
       "    </tr>\n",
       "    <tr>\n",
       "      <th>1</th>\n",
       "      <td>sol</td>\n",
       "      <td>80</td>\n",
       "      <td>90.0</td>\n",
       "      <td>VERDADEIRO</td>\n",
       "      <td>nao</td>\n",
       "    </tr>\n",
       "    <tr>\n",
       "      <th>2</th>\n",
       "      <td>nublado</td>\n",
       "      <td>83</td>\n",
       "      <td>86.0</td>\n",
       "      <td>FALSO</td>\n",
       "      <td>sim</td>\n",
       "    </tr>\n",
       "    <tr>\n",
       "      <th>3</th>\n",
       "      <td>chuva</td>\n",
       "      <td>70</td>\n",
       "      <td>NaN</td>\n",
       "      <td>FALSO</td>\n",
       "      <td>sim</td>\n",
       "    </tr>\n",
       "    <tr>\n",
       "      <th>4</th>\n",
       "      <td>chuva</td>\n",
       "      <td>68</td>\n",
       "      <td>80.0</td>\n",
       "      <td>FALSO</td>\n",
       "      <td>sim</td>\n",
       "    </tr>\n",
       "  </tbody>\n",
       "</table>\n",
       "</div>"
      ],
      "text/plain": [
       "  Aparencia  Temperatura  Umidade       Vento Jogar\n",
       "0       sol           85     85.0       FALSO   nao\n",
       "1       sol           80     90.0  VERDADEIRO   nao\n",
       "2   nublado           83     86.0       FALSO   sim\n",
       "3     chuva           70      NaN       FALSO   sim\n",
       "4     chuva           68     80.0       FALSO   sim"
      ]
     },
     "execution_count": 31,
     "metadata": {},
     "output_type": "execute_result"
    }
   ],
   "source": [
    "df.head()"
   ]
  },
  {
   "cell_type": "code",
   "execution_count": 32,
   "id": "9ab764fc",
   "metadata": {},
   "outputs": [
    {
     "data": {
      "text/plain": [
       "(14, 5)"
      ]
     },
     "execution_count": 32,
     "metadata": {},
     "output_type": "execute_result"
    }
   ],
   "source": [
    "#tamanho do dataset\n",
    "df.shape"
   ]
  },
  {
   "cell_type": "markdown",
   "id": "88930289",
   "metadata": {},
   "source": [
    "## Exploração de dados categoricos"
   ]
  },
  {
   "cell_type": "code",
   "execution_count": 33,
   "id": "5d1c2f4c",
   "metadata": {},
   "outputs": [
    {
     "data": {
      "text/plain": [
       "Aparencia\n",
       "chuva      5\n",
       "menos      1\n",
       "nublado    3\n",
       "sol        5\n",
       "dtype: int64"
      ]
     },
     "execution_count": 33,
     "metadata": {},
     "output_type": "execute_result"
    }
   ],
   "source": [
    "agrupado = df.groupby(['Aparencia']).size()\n",
    "agrupado"
   ]
  },
  {
   "cell_type": "markdown",
   "id": "07563510",
   "metadata": {},
   "source": [
    "dado incongruenete, o que seria uma aparencia 'menos'?"
   ]
  },
  {
   "cell_type": "code",
   "execution_count": 34,
   "id": "6ef8ff37",
   "metadata": {
    "scrolled": true
   },
   "outputs": [
    {
     "data": {
      "text/plain": [
       "<AxesSubplot:xlabel='Aparencia'>"
      ]
     },
     "execution_count": 34,
     "metadata": {},
     "output_type": "execute_result"
    },
    {
     "data": {
      "image/png": "[encoded data removed]",
      "text/plain": [
       "<Figure size 432x288 with 1 Axes>"
      ]
     },
     "metadata": {
      "needs_background": "light"
     },
     "output_type": "display_data"
    }
   ],
   "source": [
    "agrupado.plot.bar()"
   ]
  },
  {
   "cell_type": "code",
   "execution_count": 35,
   "id": "afafd263",
   "metadata": {},
   "outputs": [
    {
     "data": {
      "text/plain": [
       "Vento\n",
       "FALSO         7\n",
       "VERDADEIRO    6\n",
       "dtype: int64"
      ]
     },
     "execution_count": 35,
     "metadata": {},
     "output_type": "execute_result"
    }
   ],
   "source": [
    "agrupado = df.groupby(['Vento']).size()\n",
    "agrupado"
   ]
  },
  {
   "cell_type": "code",
   "execution_count": 36,
   "id": "4e91eef5",
   "metadata": {},
   "outputs": [
    {
     "data": {
      "text/plain": [
       "<AxesSubplot:xlabel='Vento'>"
      ]
     },
     "execution_count": 36,
     "metadata": {},
     "output_type": "execute_result"
    },
    {
     "data": {
      "image/png": "[encoded data removed]",
      "text/plain": [
       "<Figure size 432x288 with 1 Axes>"
      ]
     },
     "metadata": {
      "needs_background": "light"
     },
     "output_type": "display_data"
    }
   ],
   "source": [
    "agrupado.plot.bar()"
   ]
  },
  {
   "cell_type": "code",
   "execution_count": 37,
   "id": "6cdee415",
   "metadata": {},
   "outputs": [
    {
     "data": {
      "text/plain": [
       "Jogar\n",
       "nao    5\n",
       "sim    9\n",
       "dtype: int64"
      ]
     },
     "execution_count": 37,
     "metadata": {},
     "output_type": "execute_result"
    }
   ],
   "source": [
    "agrupado = df.groupby(['Jogar']).size()\n",
    "agrupado"
   ]
  },
  {
   "cell_type": "markdown",
   "id": "bb313d7e",
   "metadata": {},
   "source": [
    "## Exploração de dados numéricos"
   ]
  },
  {
   "cell_type": "code",
   "execution_count": 38,
   "id": "0ca3205c",
   "metadata": {},
   "outputs": [
    {
     "data": {
      "text/plain": [
       "count      14.000000\n",
       "mean      155.571429\n",
       "std       306.433759\n",
       "min        64.000000\n",
       "25%        69.250000\n",
       "50%        73.500000\n",
       "75%        80.750000\n",
       "max      1220.000000\n",
       "Name: Temperatura, dtype: float64"
      ]
     },
     "execution_count": 38,
     "metadata": {},
     "output_type": "execute_result"
    }
   ],
   "source": [
    "df.Temperatura.describe()"
   ]
  },
  {
   "cell_type": "markdown",
   "id": "8702439a",
   "metadata": {},
   "source": [
    "dado incongruente, a temperatura maxima está acima de 125°F (52°C)"
   ]
  },
  {
   "cell_type": "code",
   "execution_count": 39,
   "id": "29cbdf63",
   "metadata": {},
   "outputs": [
    {
     "data": {
      "text/plain": [
       "Text(0.5, 1.0, 'Temperatura')"
      ]
     },
     "execution_count": 39,
     "metadata": {},
     "output_type": "execute_result"
    },
    {
     "data": {
      "image/png": "[encoded data removed]",
      "text/plain": [
       "<Figure size 432x288 with 1 Axes>"
      ]
     },
     "metadata": {
      "needs_background": "light"
     },
     "output_type": "display_data"
    }
   ],
   "source": [
    "srn.boxplot(x = df.Temperatura).set_title(\"Temperatura\")"
   ]
  },
  {
   "cell_type": "code",
   "execution_count": 40,
   "id": "515150b7",
   "metadata": {},
   "outputs": [
    {
     "data": {
      "text/plain": [
       "<seaborn.axisgrid.FacetGrid at 0x7f876edd7eb0>"
      ]
     },
     "execution_count": 40,
     "metadata": {},
     "output_type": "execute_result"
    },
    {
     "data": {
      "image/png": "[encoded data removed]",
      "text/plain": [
       "<Figure size 360x360 with 1 Axes>"
      ]
     },
     "metadata": {
      "needs_background": "light"
     },
     "output_type": "display_data"
    }
   ],
   "source": [
    "srn.displot(x = df.Temperatura).set_titles(\"Temperatura\")"
   ]
  },
  {
   "cell_type": "code",
   "execution_count": 41,
   "id": "f41eeedf",
   "metadata": {},
   "outputs": [
    {
     "data": {
      "text/plain": [
       "count     13.000000\n",
       "mean      89.769231\n",
       "std       34.540203\n",
       "min       65.000000\n",
       "25%       70.000000\n",
       "50%       85.000000\n",
       "75%       90.000000\n",
       "max      200.000000\n",
       "Name: Umidade, dtype: float64"
      ]
     },
     "execution_count": 41,
     "metadata": {},
     "output_type": "execute_result"
    }
   ],
   "source": [
    "df.Umidade.describe()"
   ]
  },
  {
   "cell_type": "markdown",
   "id": "0f3ff6d9",
   "metadata": {},
   "source": [
    "dado inconsistente, humidade relativa do ar acima de 100%"
   ]
  },
  {
   "cell_type": "code",
   "execution_count": 42,
   "id": "d4652f4b",
   "metadata": {},
   "outputs": [
    {
     "data": {
      "text/plain": [
       "Text(0.5, 1.0, 'Umidade')"
      ]
     },
     "execution_count": 42,
     "metadata": {},
     "output_type": "execute_result"
    },
    {
     "data": {
      "image/png": "[encoded data removed]",
      "text/plain": [
       "<Figure size 432x288 with 1 Axes>"
      ]
     },
     "metadata": {
      "needs_background": "light"
     },
     "output_type": "display_data"
    }
   ],
   "source": [
    "srn.boxplot(x = df.Umidade).set_title(\"Umidade\")"
   ]
  },
  {
   "cell_type": "code",
   "execution_count": 43,
   "id": "03fb0fd3",
   "metadata": {},
   "outputs": [
    {
     "data": {
      "text/plain": [
       "<seaborn.axisgrid.FacetGrid at 0x7f876fc48ac0>"
      ]
     },
     "execution_count": 43,
     "metadata": {},
     "output_type": "execute_result"
    },
    {
     "data": {
      "image/png": "[encoded data removed]",
      "text/plain": [
       "<Figure size 360x360 with 1 Axes>"
      ]
     },
     "metadata": {
      "needs_background": "light"
     },
     "output_type": "display_data"
    }
   ],
   "source": [
    "srn.displot(x = df.Umidade).set_titles(\"Umidade\")"
   ]
  },
  {
   "cell_type": "code",
   "execution_count": 44,
   "id": "895437cc",
   "metadata": {},
   "outputs": [
    {
     "data": {
      "text/plain": [
       "Aparencia      0\n",
       "Temperatura    0\n",
       "Umidade        1\n",
       "Vento          1\n",
       "Jogar          0\n",
       "dtype: int64"
      ]
     },
     "execution_count": 44,
     "metadata": {},
     "output_type": "execute_result"
    }
   ],
   "source": [
    "#contando os NaNs\n",
    "df.isnull().sum()"
   ]
  },
  {
   "cell_type": "markdown",
   "id": "8f179dc8",
   "metadata": {},
   "source": [
    "## Tratando os dados\n",
    "No processo de tratamento de dados o mais comum é substituir os dados faltantes (null ou NaN) e os dados incongruentes pela mediana da variaveis continuas ou numéricas e pela moda no caso das variaveis categoricas."
   ]
  },
  {
   "cell_type": "code",
   "execution_count": 45,
   "id": "861ce903",
   "metadata": {},
   "outputs": [
    {
     "data": {
      "text/plain": [
       "85.5"
      ]
     },
     "execution_count": 45,
     "metadata": {},
     "output_type": "execute_result"
    }
   ],
   "source": [
    "# removendo os NaNs\n",
    "mediana = sts.median(df.Umidade)\n",
    "mediana"
   ]
  },
  {
   "cell_type": "code",
   "execution_count": 46,
   "id": "2845f87b",
   "metadata": {},
   "outputs": [
    {
     "data": {
      "text/plain": [
       "Aparencia      0\n",
       "Temperatura    0\n",
       "Umidade        0\n",
       "Vento          1\n",
       "Jogar          0\n",
       "dtype: int64"
      ]
     },
     "execution_count": 46,
     "metadata": {},
     "output_type": "execute_result"
    }
   ],
   "source": [
    "df.Umidade.fillna(mediana, inplace=True)\n",
    "df.isnull().sum()"
   ]
  },
  {
   "cell_type": "code",
   "execution_count": 47,
   "id": "7bbee562",
   "metadata": {},
   "outputs": [
    {
     "data": {
      "text/plain": [
       "'FALSO'"
      ]
     },
     "execution_count": 47,
     "metadata": {},
     "output_type": "execute_result"
    }
   ],
   "source": [
    "moda = sts.mode(df.Vento)\n",
    "moda"
   ]
  },
  {
   "cell_type": "code",
   "execution_count": 49,
   "id": "3b588ccc",
   "metadata": {},
   "outputs": [
    {
     "data": {
      "text/plain": [
       "Aparencia      0\n",
       "Temperatura    0\n",
       "Umidade        0\n",
       "Vento          0\n",
       "Jogar          0\n",
       "dtype: int64"
      ]
     },
     "execution_count": 49,
     "metadata": {},
     "output_type": "execute_result"
    }
   ],
   "source": [
    "df.Vento.fillna(moda,inplace=True)\n",
    "df.isnull().sum()"
   ]
  },
  {
   "cell_type": "code",
   "execution_count": 50,
   "id": "493e41b1",
   "metadata": {},
   "outputs": [
    {
     "data": {
      "text/plain": [
       "Aparencia\n",
       "chuva      5\n",
       "nublado    3\n",
       "sol        6\n",
       "dtype: int64"
      ]
     },
     "execution_count": 50,
     "metadata": {},
     "output_type": "execute_result"
    }
   ],
   "source": [
    "# tratando a 'Aparencia'\n",
    "df.loc[df.Aparencia=='menos','Aparencia'] = sts.mode(df.Aparencia)\n",
    "df.groupby('Aparencia').size()"
   ]
  },
  {
   "cell_type": "code",
   "execution_count": 51,
   "id": "6bf03144",
   "metadata": {},
   "outputs": [
    {
     "data": {
      "text/plain": [
       "count    14.000000\n",
       "mean     73.678571\n",
       "std       6.556286\n",
       "min      64.000000\n",
       "25%      69.250000\n",
       "50%      72.750000\n",
       "75%      78.750000\n",
       "max      85.000000\n",
       "Name: Temperatura, dtype: float64"
      ]
     },
     "execution_count": 51,
     "metadata": {},
     "output_type": "execute_result"
    }
   ],
   "source": [
    "# tratando a temperatura\n",
    "df.loc[df.Temperatura>125,'Temperatura'] = sts.median(df.Temperatura)\n",
    "df.Temperatura.describe()"
   ]
  },
  {
   "cell_type": "code",
   "execution_count": 52,
   "id": "ce98afed",
   "metadata": {},
   "outputs": [
    {
     "data": {
      "text/plain": [
       "<seaborn.axisgrid.FacetGrid at 0x7f8771705cd0>"
      ]
     },
     "execution_count": 52,
     "metadata": {},
     "output_type": "execute_result"
    },
    {
     "data": {
      "image/png": "[encoded data removed]",
      "text/plain": [
       "<Figure size 360x360 with 1 Axes>"
      ]
     },
     "metadata": {
      "needs_background": "light"
     },
     "output_type": "display_data"
    }
   ],
   "source": [
    "srn.displot(x = df.Temperatura).set_titles(\"Temperatura\")"
   ]
  },
  {
   "cell_type": "code",
   "execution_count": 53,
   "id": "8c451498",
   "metadata": {},
   "outputs": [],
   "source": [
    "df.loc[df.Umidade>100,\"Umidade\"] = sts.median(df.Umidade)"
   ]
  },
  {
   "cell_type": "code",
   "execution_count": 54,
   "id": "9319a6a6",
   "metadata": {},
   "outputs": [
    {
     "data": {
      "text/plain": [
       "count    14.000000\n",
       "mean     81.267857\n",
       "std       9.576847\n",
       "min      65.000000\n",
       "25%      71.250000\n",
       "50%      85.125000\n",
       "75%      89.000000\n",
       "max      95.000000\n",
       "Name: Umidade, dtype: float64"
      ]
     },
     "execution_count": 54,
     "metadata": {},
     "output_type": "execute_result"
    }
   ],
   "source": [
    "df.Umidade.describe()"
   ]
  },
  {
   "cell_type": "code",
   "execution_count": 56,
   "id": "c567a520",
   "metadata": {},
   "outputs": [
    {
     "data": {
      "text/plain": [
       "<seaborn.axisgrid.FacetGrid at 0x7f876f9faf70>"
      ]
     },
     "execution_count": 56,
     "metadata": {},
     "output_type": "execute_result"
    },
    {
     "data": {
      "image/png": "[encoded data removed]",
      "text/plain": [
       "<Figure size 360x360 with 1 Axes>"
      ]
     },
     "metadata": {
      "needs_background": "light"
     },
     "output_type": "display_data"
    }
   ],
   "source": [
    "srn.displot(x = df.Umidade).set_titles(\"Umidade\")"
   ]
  },
  {
   "cell_type": "code",
   "execution_count": null,
   "id": "24502535",
   "metadata": {},
   "outputs": [],
   "source": []
  }
 ],
 "metadata": {
  "kernelspec": {
   "display_name": "Python 3 (ipykernel)",
   "language": "python",
   "name": "python3"
  },
  "language_info": {
   "codemirror_mode": {
    "name": "ipython",
    "version": 3
   },
   "file_extension": ".py",
   "mimetype": "text/x-python",
   "name": "python",
   "nbconvert_exporter": "python",
   "pygments_lexer": "ipython3",
   "version": "3.9.2"
  }
 },
 "nbformat": 4,
 "nbformat_minor": 5
}
